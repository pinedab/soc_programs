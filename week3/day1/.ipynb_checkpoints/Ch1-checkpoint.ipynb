{
 "cells": [
  {
   "cell_type": "code",
   "execution_count": 2,
   "metadata": {},
   "outputs": [
    {
     "name": "stdout",
     "output_type": "stream",
     "text": [
      "*** Introductory Examples for the NLTK Book ***\n",
      "Loading text1, ..., text9 and sent1, ..., sent9\n",
      "Type the name of the text or sentence to view it.\n",
      "Type: 'texts()' or 'sents()' to list the materials.\n",
      "text1: Moby Dick by Herman Melville 1851\n",
      "text2: Sense and Sensibility by Jane Austen 1811\n",
      "text3: The Book of Genesis\n",
      "text4: Inaugural Address Corpus\n",
      "text5: Chat Corpus\n",
      "text6: Monty Python and the Holy Grail\n",
      "text7: Wall Street Journal\n",
      "text8: Personals Corpus\n",
      "text9: The Man Who Was Thursday by G . K . Chesterton 1908\n"
     ]
    }
   ],
   "source": [
    "import nltk\n",
    "from nltk.book import *\n",
    "import matplotlib"
   ]
  },
  {
   "cell_type": "code",
   "execution_count": 3,
   "metadata": {
    "scrolled": true
   },
   "outputs": [
    {
     "name": "stdout",
     "output_type": "stream",
     "text": [
      "text1: Moby Dick by Herman Melville 1851\n",
      "text2: Sense and Sensibility by Jane Austen 1811\n",
      "text3: The Book of Genesis\n",
      "text4: Inaugural Address Corpus\n",
      "text5: Chat Corpus\n",
      "text6: Monty Python and the Holy Grail\n",
      "text7: Wall Street Journal\n",
      "text8: Personals Corpus\n",
      "text9: The Man Who Was Thursday by G . K . Chesterton 1908\n"
     ]
    }
   ],
   "source": [
    "texts()"
   ]
  },
  {
   "cell_type": "code",
   "execution_count": 4,
   "metadata": {
    "scrolled": false
   },
   "outputs": [
    {
     "name": "stdout",
     "output_type": "stream",
     "text": [
      "sent1: Call me Ishmael .\n",
      "sent2: The family of Dashwood had long been settled in Sussex .\n",
      "sent3: In the beginning God created the heaven and the earth .\n",
      "sent4: Fellow - Citizens of the Senate and of the House of Representatives :\n",
      "sent5: I have a problem with people PMing me to lol JOIN\n",
      "sent6: SCENE 1 : [ wind ] [ clop clop clop ] KING ARTHUR : Whoa there !\n",
      "sent7: Pierre Vinken , 61 years old , will join the board as a nonexecutive director Nov. 29 .\n",
      "sent8: 25 SEXY MALE , seeks attrac older single lady , for discreet encounters .\n",
      "sent9: THE suburb of Saffron Park lay on the sunset side of London , as red and ragged as a cloud of sunset .\n"
     ]
    }
   ],
   "source": [
    "sents()"
   ]
  },
  {
   "cell_type": "code",
   "execution_count": 8,
   "metadata": {},
   "outputs": [
    {
     "name": "stdout",
     "output_type": "stream",
     "text": [
      "Displaying 25 of 25 matches:\n",
      "lang ] CART - MASTER : Bring out your dead ! [ clang ] Bring out your dead ! [ c\n",
      " your dead ! [ clang ] Bring out your dead ! [ clang ] Bring out your dead ! [ c\n",
      " your dead ! [ clang ] Bring out your dead ! [ clang ] Bring out your dead ! [ c\n",
      " your dead ! [ clang ] Bring out your dead ! [ clang ] Bring out your dead ! [ c\n",
      " your dead ! [ clang ] Bring out your dead ! [ cough cough ...] [ clang ] [... c\n",
      "g ] [... cough cough ] Bring out your dead ! [ clang ] Bring out your dead ! [ c\n",
      " your dead ! [ clang ] Bring out your dead ! [ clang ] Bring out your dead ! Nin\n",
      " your dead ! [ clang ] Bring out your dead ! Ninepence . [ clang ] Bring out you\n",
      " Ninepence . [ clang ] Bring out your dead ! [ clang ] Bring out your dead ! [ c\n",
      " your dead ! [ clang ] Bring out your dead ! [ clang ] Bring out ... [ rewr !] .\n",
      "ng ] Bring out ... [ rewr !] ... your dead ! [ rewr !] [ clang ] Bring out your \n",
      " ! [ rewr !] [ clang ] Bring out your dead ! CUSTOMER : Here ' s one . CART - MA\n",
      "' s one . CART - MASTER : Ninepence . DEAD PERSON : I ' m not dead ! CART - MAST\n",
      ": Ninepence . DEAD PERSON : I ' m not dead ! CART - MASTER : What ? CUSTOMER : N\n",
      ": Nothing . Here ' s your ninepence . DEAD PERSON : I ' m not dead ! CART - MAST\n",
      "r ninepence . DEAD PERSON : I ' m not dead ! CART - MASTER : ' Ere . He says he \n",
      "- MASTER : ' Ere . He says he ' s not dead ! CUSTOMER : Yes he is . DEAD PERSON \n",
      "' s not dead ! CUSTOMER : Yes he is . DEAD PERSON : I ' m not ! CART - MASTER : \n",
      ", he will be soon . He ' s very ill . DEAD PERSON : I ' m getting better ! CUSTO\n",
      ": No you ' re not . You ' ll be stone dead in a moment . CART - MASTER : Oh , I \n",
      "e that . It ' s against regulations . DEAD PERSON : I don ' t want to go on the \n",
      " CART - MASTER : I can ' t take him . DEAD PERSON : I feel fine ! CUSTOMER : Wel\n",
      "xt round ? CART - MASTER : Thursday . DEAD PERSON : I think I ' ll go for a walk\n",
      " isn ' t there something you can do ? DEAD PERSON : [ singing ] I feel happy ...\n",
      "CORDE : Uh , I ' m -- I ' m not quite dead , sir . LAUNCELOT : Well , you shall \n"
     ]
    }
   ],
   "source": [
    "# FINDS ALL THE USES OF 1 SPECIFIED WORD\n",
    "text6.concordance('dead')"
   ]
  },
  {
   "cell_type": "code",
   "execution_count": 14,
   "metadata": {},
   "outputs": [
    {
     "name": "stdout",
     "output_type": "stream",
     "text": [
      "Displaying 25 of 25 matches:\n",
      " and he called his name En then began men to call upon the name of the LORD . T\n",
      " Japheth . And it came to pass , when men began to multiply on the face of the \n",
      " the sons of God saw the daughters of men that they were fair ; and they took t\n",
      " of God came in unto the daughters of men , and they bare children to them , th\n",
      "dren to them , the same became mighty men which were of old , men of renown . A\n",
      "became mighty men which were of old , men of renown . And God saw that the wick\n",
      "and the tower , which the children of men builded . And the LORD said , Behold \n",
      "o thy way . And Pharaoh commanded his men concerning him : and they sent him aw\n",
      "tched his tent toward Sodom . But the men of Sodom were wicked and sinners befo\n",
      "ram ri Save only that which the young men have eaten , and the portion of the m\n",
      "n have eaten , and the portion of the men which went with me , Aner , Eshcol , \n",
      "with his money , every male among the men of Abraham ' s house ; and circumcise\n",
      "d , and Ishmael his son . And all the men of his house , born in the house , an\n",
      "is eyes and looked , and , lo , three men stood by h and when he saw them , he \n",
      " Nay ; but thou didst laugh . And the men rose up from thence , and looked towa\n",
      " ; and if not , I will know . And the men turned their faces from thence , and \n",
      " eat . But before they lay down , the men of the city , even the men of Sodom ,\n",
      "down , the men of the city , even the men of Sodom , compassed the house round \n",
      "t , and said unto him , Where are the men which came in to thee this night ? br\n",
      "as is good in your ey only unto these men do nothing ; for therefore came they \n",
      "came near to break the door . But the men put forth their hand , and pulled Lot\n",
      "shut to the door . And they smote the men that were at the door of the house wi\n",
      "themselves to find the door . And the men said unto Lot , Hast thou here any be\n",
      "he city . And while he lingered , the men laid hold upon his hand , and upon th\n",
      " all these things in their ea and the men were sore afraid . Then Abimelech cal\n",
      "\n",
      "Displaying 5 of 5 matches:\n",
      "rother Lot , and his goods , and the women also , and the people . And the king\n",
      "to be with Sarah after the manner of women . Therefore Sarah laughed within her\n",
      " of the evening , even the time that women go out to draw water . And he said O\n",
      "e up before thee ; for the custom of women is upon me . And he searched but fou\n",
      " he lifted up his eyes , and saw the women and the children ; and said , Who ar\n"
     ]
    }
   ],
   "source": [
    "text3.concordance('men') # 25\n",
    "print()\n",
    "text3.concordance('women') # 5"
   ]
  },
  {
   "cell_type": "code",
   "execution_count": 51,
   "metadata": {},
   "outputs": [
    {
     "name": "stdout",
     "output_type": "stream",
     "text": [
      "man king hand whale devil as bird mast job lord day serpent boat stone\n",
      "ship harris captain mariner fellow hands\n",
      "\n",
      "a_s\n"
     ]
    }
   ],
   "source": [
    "# text1.concordance(\"woman\") # 10\n",
    "# SIMILIAR\n",
    "text1.similar(\"woman\")\n",
    "# COMMON CONTEXTS - needs brackets\n",
    "print()\n",
    "text1.common_contexts([\"woman\", \"bird\"])\n"
   ]
  },
  {
   "cell_type": "code",
   "execution_count": 62,
   "metadata": {},
   "outputs": [
    {
     "data": {
      "image/png": "[encoded data removed]",
      "text/plain": [
       "<Figure size 432x288 with 1 Axes>"
      ]
     },
     "metadata": {},
     "output_type": "display_data"
    },
    {
     "data": {
      "image/png": "[encoded data removed]",
      "text/plain": [
       "<Figure size 432x288 with 1 Axes>"
      ]
     },
     "metadata": {},
     "output_type": "display_data"
    }
   ],
   "source": [
    "# DISPERSION PLOT - opens new window from cmd\n",
    "text4.dispersion_plot(['citizen', 'freedom', 'rights', 'privilege'])\n",
    "text4.dispersion_plot(['family', 'black', 'hispanic', 'latino', 'immigrant', 'child', 'women', 'woman'])\n"
   ]
  },
  {
   "cell_type": "code",
   "execution_count": 77,
   "metadata": {},
   "outputs": [
    {
     "name": "stdout",
     "output_type": "stream",
     "text": [
      "In text4: <Text: Inaugural Address Corpus> \n",
      "total: 145735 , unique: 9754\n",
      "Lexical diversity: 0.06692970116993173\n",
      "About every 14.941049825712529 word is unique\n"
     ]
    }
   ],
   "source": [
    "# length of character\n",
    "t = len(text4)\n",
    "# Set = unique words\n",
    "u = len(set(text4))\n",
    "\n",
    "print('In text4:', text4, '\\ntotal:', t, ', unique:', u)\n",
    "print('Lexical diversity:', u/t)\n",
    "print('About every', t/u, 'word is unique')"
   ]
  },
  {
   "cell_type": "code",
   "execution_count": 86,
   "metadata": {},
   "outputs": [
    {
     "data": {
      "text/plain": [
       "0.06692970116993173"
      ]
     },
     "execution_count": 86,
     "metadata": {},
     "output_type": "execute_result"
    }
   ],
   "source": [
    "def lexical_diversity(text):\n",
    "    return len(set(text)) / len(text)\n",
    "\n",
    "lexical_diversity(text4)"
   ]
  },
  {
   "cell_type": "code",
   "execution_count": 85,
   "metadata": {
    "scrolled": true
   },
   "outputs": [
    {
     "data": {
      "text/plain": [
       "0.09057535938518543"
      ]
     },
     "execution_count": 85,
     "metadata": {},
     "output_type": "execute_result"
    }
   ],
   "source": [
    "def percentage(count, total):\n",
    "    return 100 * count / total\n",
    "    \n",
    "\n",
    "percentage(text4.count('rights'), len(text4))"
   ]
  },
  {
   "cell_type": "code",
   "execution_count": 91,
   "metadata": {},
   "outputs": [
    {
     "name": "stdout",
     "output_type": "stream",
     "text": [
      "<Text: Sense and Sensibility by Jane Austen 1811>\n",
      "a_in a_who young_who a_of a_as a_to young_of of_, a_whose young_.\n",
      "respectable_, charming_, young_, a_, other_in a_whom\n"
     ]
    }
   ],
   "source": [
    "print(text2)\n",
    "text2.common_contexts(['woman','man'])"
   ]
  },
  {
   "cell_type": "code",
   "execution_count": 92,
   "metadata": {},
   "outputs": [
    {
     "name": "stdout",
     "output_type": "stream",
     "text": [
      "<Text: Moby Dick by Herman Melville 1851>\n",
      "old_he a_s old_of old_s\n"
     ]
    }
   ],
   "source": [
    "print(text1)\n",
    "text1.common_contexts(['woman','man'])"
   ]
  },
  {
   "cell_type": "code",
   "execution_count": 99,
   "metadata": {},
   "outputs": [
    {
     "name": "stdout",
     "output_type": "stream",
     "text": [
      "<Text: Sense and Sensibility by Jane Austen 1811>\n",
      "<FreqDist with 6833 samples and 141576 outcomes>\n"
     ]
    }
   ],
   "source": [
    "fdist2 = FreqDist(text2)\n",
    "print(text2)\n",
    "print(fdist2)"
   ]
  },
  {
   "cell_type": "code",
   "execution_count": 105,
   "metadata": {},
   "outputs": [
    {
     "data": {
      "text/plain": [
       "[(',', 9397),\n",
       " ('to', 4063),\n",
       " ('.', 3975),\n",
       " ('the', 3861),\n",
       " ('of', 3565),\n",
       " ('and', 3350),\n",
       " ('her', 2436),\n",
       " ('a', 2043),\n",
       " ('I', 2004),\n",
       " ('in', 1904)]"
      ]
     },
     "execution_count": 105,
     "metadata": {},
     "output_type": "execute_result"
    }
   ],
   "source": [
    "fdist2.most_common(10) #includes stock words - '.' ',' 'to' 'a'"
   ]
  },
  {
   "cell_type": "code",
   "execution_count": null,
   "metadata": {},
   "outputs": [],
   "source": []
  }
 ],
 "metadata": {
  "kernelspec": {
   "display_name": "Python 3",
   "language": "python",
   "name": "python3"
  },
  "language_info": {
   "codemirror_mode": {
    "name": "ipython",
    "version": 3
   },
   "file_extension": ".py",
   "mimetype": "text/x-python",
   "name": "python",
   "nbconvert_exporter": "python",
   "pygments_lexer": "ipython3",
   "version": "3.6.5"
  }
 },
 "nbformat": 4,
 "nbformat_minor": 2
}
