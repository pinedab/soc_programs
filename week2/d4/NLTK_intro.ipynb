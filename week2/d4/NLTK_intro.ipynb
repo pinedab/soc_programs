{
 "cells": [
  {
   "cell_type": "code",
   "execution_count": 2,
   "metadata": {},
   "outputs": [
    {
     "name": "stdout",
     "output_type": "stream",
     "text": [
      "*** Introductory Examples for the NLTK Book ***\n",
      "Loading text1, ..., text9 and sent1, ..., sent9\n",
      "Type the name of the text or sentence to view it.\n",
      "Type: 'texts()' or 'sents()' to list the materials.\n",
      "text1: Moby Dick by Herman Melville 1851\n",
      "text2: Sense and Sensibility by Jane Austen 1811\n",
      "text3: The Book of Genesis\n",
      "text4: Inaugural Address Corpus\n",
      "text5: Chat Corpus\n",
      "text6: Monty Python and the Holy Grail\n",
      "text7: Wall Street Journal\n",
      "text8: Personals Corpus\n",
      "text9: The Man Who Was Thursday by G . K . Chesterton 1908\n"
     ]
    },
    {
     "data": {
      "text/plain": [
       "<Text: Moby Dick by Herman Melville 1851>"
      ]
     },
     "execution_count": 2,
     "metadata": {},
     "output_type": "execute_result"
    }
   ],
   "source": [
    "import nltk\n",
    "from nltk.book import *\n",
    "from nltk.corpus import inaugural\n",
    "text1"
   ]
  },
  {
   "cell_type": "code",
   "execution_count": 9,
   "metadata": {},
   "outputs": [
    {
     "name": "stdout",
     "output_type": "stream",
     "text": [
      "Displaying 25 of 25 matches:\n",
      " spouts out a sea .\" -- IBID . \" The mighty whales which swim in a sea of water \n",
      "RUISE IN A WHALE BOAT . \" Suddenly a mighty mass emerged from the water , and sh\n",
      "t . Euroclydon , nevertheless , is a mighty pleasant zephyr to any one in - door\n",
      "fellow . However , a good laugh is a mighty good thing , and rather too scarce a\n",
      "s one of the smallest strands in the mighty cable of the Scriptures . Yet what d\n",
      "s he or heeds he the far rush of the mighty whale , which even now with open mou\n",
      "cquaintances . All this struck me as mighty singular ; yet , upon second thought\n",
      "ne in a whole nation ' s census -- a mighty pageant creature , formed for noble \n",
      "t the stingy old Bildad might have a mighty deal to say about shipping hands , e\n",
      "in one aggregate , than the high and mighty business of whaling . One way and an\n",
      " ship is the true mother of that now mighty colony . Moreover , in the infancy o\n",
      "t account of our Leviathan ? Who but mighty Job ! And who composed the first nar\n",
      "Y GRAND IMPOSING WAY ? In one of the mighty triumphs given to a Roman general up\n",
      "concentrating brow of an enraged and mighty man . But were the coming narrative \n",
      "han a throne ! Thou who , in all Thy mighty , earthly marchings , ever cullest T\n",
      "ss regal overbearing dignity of some mighty woe . Ere long , from his first visi\n",
      " only a false leg .' And there ' s a mighty difference between a living thump an\n",
      " hangs there like a leech , till the mighty brute is worried to death . The Kill\n",
      "rary servants ' hall of the high and mighty cabin . In strange contrast to the h\n",
      " bushy , even for a parmacetty , and mighty quick , Captain Ahab ?\" \" And he hav\n",
      " make his fancy pregnant with many a mighty birth . No wonder , then , that ever\n",
      " bluff - browed and fearless as this mighty steed . Whether marching amid his ai\n",
      " the air , so as to preserve all his mighty swells and undulations . And , not t\n",
      "on his crew to the assault . Yes , a mighty change had come over the fish . All \n",
      " lookest hoary with mosses ; speak , mighty head , and tell us the secret thing \n"
     ]
    }
   ],
   "source": [
    "text1.concordance('mighty')"
   ]
  },
  {
   "cell_type": "code",
   "execution_count": 10,
   "metadata": {},
   "outputs": [
    {
     "name": "stdout",
     "output_type": "stream",
     "text": [
      "Displaying 2 of 2 matches:\n",
      "m aspect of Ahab affect me , and the livid brand which streaked it , that for t\n",
      "ed shoulders , wrists , and ankles ; livid contusions ; wrenched harpoons and l\n"
     ]
    }
   ],
   "source": [
    "text1.concordance(\"livid\")"
   ]
  }
 ],
 "metadata": {
  "kernelspec": {
   "display_name": "Python 3",
   "language": "python",
   "name": "python3"
  },
  "language_info": {
   "codemirror_mode": {
    "name": "ipython",
    "version": 3
   },
   "file_extension": ".py",
   "mimetype": "text/x-python",
   "name": "python",
   "nbconvert_exporter": "python",
   "pygments_lexer": "ipython3",
   "version": "3.6.5"
  }
 },
 "nbformat": 4,
 "nbformat_minor": 2
}
